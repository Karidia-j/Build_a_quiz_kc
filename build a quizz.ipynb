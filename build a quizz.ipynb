{
 "cells": [
  {
   "attachments": {},
   "cell_type": "markdown",
   "metadata": {},
   "source": [
    "BUILD A QUIZZ"
   ]
  },
  {
   "cell_type": "code",
   "execution_count": 1,
   "metadata": {},
   "outputs": [
    {
     "name": "stdout",
     "output_type": "stream",
     "text": [
      "Welcome to our quizz\n",
      "You have 3 lives.\n",
      "\n",
      "Question 1\n",
      "Your answer : 6\n",
      "Sorry, you have 2 chances letf\n",
      "Your answer : 2\n",
      "Question 2\n",
      "Your answer : 1980\n",
      "Sorry, you have 1 chances letf\n",
      "Your answer : 1976\n",
      "Question 3\n",
      "Sorry, you have 0 chances letf\n",
      "Oh no, you lost the quiz\n"
     ]
    }
   ],
   "source": [
    "#Première partie de l'exercice fait par KC\n",
    "\n",
    "print(\"Welcome to our quizz\")\n",
    "print(\"You have 3 lives.\")\n",
    "print()\n",
    "\n",
    "chance = 3 \n",
    "b = \"Good job! This is the right answer\"\n",
    "\n",
    "print(\"Question 1\")\n",
    "question1 = input(\"How many world cup did France win?\")\n",
    "while question1 != \"2\" :\n",
    "    chance -=1\n",
    "    if chance == 0:\n",
    "        print(\"Oh no, you lost the quiz...\")\n",
    "        break\n",
    "    print(\"Your answer : {}\".format(question1))\n",
    "    print(\"Sorry, you have {} chances letf\".format(chance))\n",
    "    question1 = input(\"How many world cup did France win?\")\n",
    "if question1 == \"2\" : \n",
    "    print(\"Your answer : {}\".format(question1))\n",
    "     \n",
    "print(\"Question 2\")\n",
    "question2 = input(\"When did the 1st Rocky movie come out?\")\n",
    "while question2 != \"1976\" :\n",
    "    chance -=1\n",
    "    if chance == 0:\n",
    "        print(\"Oh no, you lost the quiz...\")\n",
    "        break\n",
    "    print(\"Your answer : {}\".format(question2))\n",
    "    print(\"Sorry, you have {} chances letf\".format(chance))\n",
    "    question2 = input(\"When did the 1st Rocky movie come out?\")\n",
    "if question2 == \"1976\" : \n",
    "    print(\"Your answer : {}\".format(question2))\n",
    "\n",
    "print(\"Question 3\")\n",
    "question3 = input(\"who is the CEO of Tesla?\")\n",
    "while question3 != \"Elon Musk\" :\n",
    "    chance -=1\n",
    "    if chance == 0:\n",
    "        print(\"Sorry, you have {} chances letf\".format(chance))\n",
    "        print(\"Oh no, you lost the quiz\")\n",
    "        break\n",
    "    print(\"Your answer : {}\".format(question3))\n",
    "    print(\"Sorry, you have {} chances letf\".format(chance))\n",
    "    if chance != \"0\":\n",
    "        print(question3 = input(\"who is the CEO of Tesla?\"))\n",
    "    elif chance == \"0\" :\n",
    "        print (\"Oh no, you lost the quiz...\")\n",
    "if question3 == \"Elon Musk\" : \n",
    "    print(\"Your answer : {}\".format(question3))"
   ]
  },
  {
   "cell_type": "code",
   "execution_count": 2,
   "metadata": {},
   "outputs": [
    {
     "name": "stdout",
     "output_type": "stream",
     "text": [
      "here is our beautiful quiz!\n",
      "Dang, wrong answer 😓... You still have 2 chances left\n",
      "Dang, wrong answer 😓... You still have 1 chances left\n",
      "🥳 Congratulations, you've won the quiz 🥳\n"
     ]
    }
   ],
   "source": [
    "# Correction disponible sur JULIE\n",
    "\n",
    "nb_of_chances = 3\n",
    "\n",
    "print(\"here is our beautiful quiz!\")\n",
    "\n",
    "if nb_of_chances > 0:\n",
    "    question1= input(\"How many times France won the Soccer World Cup?\")\n",
    "    while question1 != \"2\":\n",
    "        nb_of_chances -= 1\n",
    "        print(\"Dang, wrong answer 😓... You still have {} chances left\".format(nb_of_chances))\n",
    "        if nb_of_chances == 0:\n",
    "            print(\"Oh no! It's game over 💥\")\n",
    "            break\n",
    "        question1 = input(\"How many times France won the Soccer World Cup?\")\n",
    "\n",
    "if nb_of_chances > 0:\n",
    "    question2 = input(\"When was Apple founded?\")\n",
    "    while question2 != \"1976\":\n",
    "        nb_of_chances -=1\n",
    "        print(\"Dang, wrong answer 😓... You still have {} chances left\".format(nb_of_chances))\n",
    "        if nb_of_chances == 0:\n",
    "            print(\"Oh no! It's game over 💥\")\n",
    "            break\n",
    "        question2 = input(\"When was Apple founded?\")\n",
    "\n",
    "\n",
    "if nb_of_chances > 0:\n",
    "    question3 = input(\"Who founded SpaceX?\")\n",
    "    question3 = question3.lower()\n",
    "    while question3 != \"elon musk\":\n",
    "        nb_of_chances -=1\n",
    "        print(\"Dang, wrong answer 😓... You still have {} chances left\".format(nb_of_chances))\n",
    "        if nb_of_chances == 0:\n",
    "            print(\"Oh no! It's game over 💥\")\n",
    "            break\n",
    "        question3 = input(\"Who founded SpaceX?\")\n",
    "        question3 = question3.lower()\n",
    "\n",
    "if nb_of_chances > 0:\n",
    "    print(\"🥳 Congratulations, you've won the quiz 🥳\")"
   ]
  },
  {
   "cell_type": "code",
   "execution_count": 70,
   "metadata": {},
   "outputs": [],
   "source": [
    "# Quiz simplifié avec la création d'une classe fait par KC\n",
    "\n",
    "class Chance ():\n",
    "    def __init__(self):\n",
    "        self.nb_chances = 3\n",
    "\n",
    "    def questions (self):\n",
    "\n",
    "        if self.nb_chances > 0:\n",
    "            question1= input(\"How many times France won the Soccer World Cup?\")\n",
    "            while question1 != \"2\":\n",
    "                self.nb_chances -= 1\n",
    "                print(\"Dang, wrong answer 😓... You still have {} chances left\".format(self.nb_chances))\n",
    "                if self.nb_chances == 0:\n",
    "                    print(\"Oh no! It's game over 💥\")\n",
    "                    break\n",
    "                question1 = input(\"How many times France won the Soccer World Cup?\")\n",
    "        \n",
    "            if question1 == \"2\" and self.nb_chances > 0:\n",
    "                print(\"Your answer : {} is correct\".format(question1))\n",
    "                question2= input(\"When was Apple founded?\")\n",
    "                while question2 != \"1976\":\n",
    "                    self.nb_chances -= 1\n",
    "                    print(\"Dang, wrong answer 😓... You still have {} chances left\".format(self.nb_chances))\n",
    "                    if self.nb_chances == 0:\n",
    "                        print(\"Oh no! It's game over 💥\")\n",
    "                        break\n",
    "                    question2 = input(\"When was Apple founded?\")\n",
    "        \n",
    "            if question2 == \"1976\" and self.nb_chances > 0:\n",
    "                print(\"Your answer : {} is correct\".format(question2))\n",
    "                question3= input(\"Who founded SpaceX?\")\n",
    "                question3 = question3.lower()\n",
    "                while question3 != \"elon musk\":\n",
    "                    self.nb_chances -= 1\n",
    "                    print(\"Dang, wrong answer 😓... You still have {} chances left\".format(self.nb_chances))\n",
    "                    if self.nb_chances == 0:\n",
    "                        print(\"Oh no! It's game over 💥\")\n",
    "                        break\n",
    "                    question3 = input(\"Who founded SpaceX?\")\n",
    "                    question3 = question3.lower()\n",
    "                if question3 == \"elon musk\":\n",
    "                    print(\"Your answer : {} is correct\".format(question3))\n",
    "        \n",
    "        if self.nb_chances > 0:\n",
    "            print(\"🥳 Congratulations, you've won the quiz 🥳\")\n",
    "        "
   ]
  },
  {
   "cell_type": "code",
   "execution_count": 71,
   "metadata": {},
   "outputs": [],
   "source": [
    "quiz = Chance ()"
   ]
  },
  {
   "cell_type": "code",
   "execution_count": 72,
   "metadata": {},
   "outputs": [
    {
     "name": "stdout",
     "output_type": "stream",
     "text": [
      "Your answer : 2 is correct\n",
      "Your answer : 1976 is correct\n",
      "Your answer : elon musk is correct\n",
      "🥳 Congratulations, you've won the quiz 🥳\n"
     ]
    }
   ],
   "source": [
    "quiz.questions()"
   ]
  }
 ],
 "metadata": {
  "kernelspec": {
   "display_name": "base",
   "language": "python",
   "name": "python3"
  },
  "language_info": {
   "codemirror_mode": {
    "name": "ipython",
    "version": 3
   },
   "file_extension": ".py",
   "mimetype": "text/x-python",
   "name": "python",
   "nbconvert_exporter": "python",
   "pygments_lexer": "ipython3",
   "version": "3.9.13"
  },
  "orig_nbformat": 4,
  "vscode": {
   "interpreter": {
    "hash": "a10d706823f3cf7087d63bef1c742be4958f3fd3db2b84fc42b4f4bb3d7e0d1d"
   }
  }
 },
 "nbformat": 4,
 "nbformat_minor": 2
}
